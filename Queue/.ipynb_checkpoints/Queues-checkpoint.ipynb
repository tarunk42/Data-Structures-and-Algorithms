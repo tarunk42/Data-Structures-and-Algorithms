{
 "cells": [
  {
   "cell_type": "markdown",
   "id": "39e93e87-c793-4de6-b277-183269f6d587",
   "metadata": {},
   "source": [
    "# Queue Problems"
   ]
  },
  {
   "cell_type": "markdown",
   "id": "ce807f09-bc24-47af-8875-891a5f315ede",
   "metadata": {},
   "source": [
    "## UDEMY"
   ]
  },
  {
   "cell_type": "code",
   "execution_count": 26,
   "id": "81309498-4180-4606-a321-7613c164bb07",
   "metadata": {},
   "outputs": [],
   "source": [
    "class Queue(object):\n",
    "    \"\"\"\n",
    "    Implementing queue datastructure\n",
    "    isEmpty(): checks and returns if the queue is empty or not in boolean value.\n",
    "    enqueue(): adds item at the rear of the queue.\n",
    "    dequeue(): removes amd retruns item from the front of the queue.\n",
    "    size(): returns the length/size of the queue.\n",
    "    \"\"\"\n",
    "    def __init__(self):\n",
    "        self.items = []\n",
    "    \n",
    "    def isEmpty(self):\n",
    "        \"\"\"\n",
    "        checks and returns if the queue is empty or not in boolean value.\n",
    "        \"\"\"\n",
    "        return self.items == []\n",
    "    \n",
    "    def enqueue(self,item):\n",
    "        \"\"\"\n",
    "        adds item at the rear of the queue.\n",
    "        \"\"\"\n",
    "        self.items.insert(0, item)\n",
    "    \n",
    "    def dequeue(self):\n",
    "        \"\"\"\n",
    "        removes amd retruns item from the front of the queue.\n",
    "        \"\"\"\n",
    "        return self.items.pop()\n",
    "    \n",
    "    def size(self):\n",
    "        \"\"\"\n",
    "        returns the length/size of the queue.\n",
    "        \"\"\"\n",
    "        return len(self.items)"
   ]
  },
  {
   "cell_type": "markdown",
   "id": "586909c1-be08-4a7d-96f6-0f80d5e8acf1",
   "metadata": {},
   "source": [
    "## Deques"
   ]
  },
  {
   "cell_type": "markdown",
   "id": "64ce8cf9-386a-4cd7-8a64-81f875a109b1",
   "metadata": {},
   "source": [
    "### We will also implement Deques"
   ]
  },
  {
   "cell_type": "code",
   "execution_count": 10,
   "id": "543a36e7-3f40-4512-942c-fd2c05d5bc7c",
   "metadata": {},
   "outputs": [],
   "source": [
    "class Deque(object):\n",
    "    \"\"\"\n",
    "    Implementing Deque datastructure\n",
    "    isEmpty(): checks and returns if the Deque is empty or not in boolean value.\n",
    "    addFront(): adds item at the front of the deque.\n",
    "    addRear(): adds item at the rear of the deque.\n",
    "    removeFront(): removes amd retruns item from the front of the deque.\n",
    "    removeRear(): removes amd retruns item from the rear of the deque.\n",
    "    size(): returns the length/size of the deque.\n",
    "    \"\"\"\n",
    "    def __init__(self):\n",
    "        self.items = []\n",
    "    \n",
    "    def isEmpty(self):\n",
    "        \"\"\"\n",
    "        checks and returns if the Deque is empty or not in boolean value.\n",
    "        \"\"\"\n",
    "        return self.items == []\n",
    "    \n",
    "    def addFront(self,item):\n",
    "        \"\"\"\n",
    "        adds item at the front of the deque.\n",
    "        \"\"\"\n",
    "        self.items.append(item)\n",
    "        \n",
    "    def addRear(self, item):\n",
    "        \"\"\"\n",
    "        adds item at the rear of the deque.\n",
    "        \"\"\"\n",
    "        self.items.insert(0, item)\n",
    "    \n",
    "    def removeFront(self):\n",
    "        \"\"\"\n",
    "        removes amd retruns item from the front of the deque.\n",
    "        \"\"\"\n",
    "        return self.items.pop()\n",
    "    \n",
    "    def removeRear(self):\n",
    "        \"\"\"\n",
    "        removes amd retruns item from the rear of the deque.\n",
    "        \"\"\"\n",
    "        return self.items.pop(0)\n",
    "    \n",
    "    def size(self):\n",
    "        \"\"\"\n",
    "        returns the length/size of the deque.\n",
    "        \"\"\"\n",
    "        return len(self.items)"
   ]
  },
  {
   "cell_type": "markdown",
   "id": "a0c92eb2-b113-4562-820b-b4a441b8ef31",
   "metadata": {},
   "source": [
    "#### Prob 1: Implement a Queue.\n",
    "#### Prob 2: Implement a Deque.\n",
    "#### (We have already done both.)"
   ]
  },
  {
   "cell_type": "markdown",
   "id": "f88a057c-4723-4539-81e9-6fa8a2c91b9f",
   "metadata": {},
   "source": [
    "#### Prob 3: Implement a Queue using Two Stacks"
   ]
  },
  {
   "cell_type": "code",
   "execution_count": 11,
   "id": "cc2ca023-83dc-49b8-9014-4279460b67b3",
   "metadata": {},
   "outputs": [],
   "source": [
    "class Stack(object):\n",
    "    def __init__(self):\n",
    "        self.items = []\n",
    "        \n",
    "    def isEmpty(self):\n",
    "        return self.items == []\n",
    "    \n",
    "    def push(self,item):\n",
    "        self.items.append(item)\n",
    "    \n",
    "    def pop(self):\n",
    "        return self.items.pop()\n",
    "    \n",
    "    def peek(self):\n",
    "        return self.items[len(self.items)-1]\n",
    "    \n",
    "    def size(self):\n",
    "        return len(self.items)"
   ]
  },
  {
   "cell_type": "code",
   "execution_count": 17,
   "id": "02128ea5-d510-45cb-875e-4e0fc2ffb408",
   "metadata": {},
   "outputs": [],
   "source": [
    "class Queue2Stacks(object):\n",
    "    def __init__(self):\n",
    "        self.instack = Stack()\n",
    "        self.outstack = Stack()\n",
    "    \n",
    "    def enqueue(self, item):\n",
    "        self.instack.push(item)\n",
    "    \n",
    "    def dequeue(self):\n",
    "        if not self.outstack.isEmpty():\n",
    "            while self.instack.isEmpty():\n",
    "                self.outstack.push(self.instack.pop())\n",
    "        return self.outstack.pop()"
   ]
  },
  {
   "cell_type": "code",
   "execution_count": 21,
   "id": "47227597-d676-4e30-a44b-34f5546a305e",
   "metadata": {},
   "outputs": [],
   "source": [
    "class Queue2Stacks(object):\n",
    "    def __init__(self):\n",
    "        self.instack = []\n",
    "        self.outstack = []\n",
    "    \n",
    "    def enqueue(self, item):\n",
    "        self.instack.append(item)\n",
    "    \n",
    "    def dequeue(self):\n",
    "        if not self.outstack:\n",
    "            while self.instack:\n",
    "                self.outstack.append(self.instack.pop())\n",
    "        return self.outstack.pop()"
   ]
  },
  {
   "cell_type": "code",
   "execution_count": 22,
   "id": "1ce1f512-7ddc-40b9-b754-7bd9ceb66f1f",
   "metadata": {},
   "outputs": [],
   "source": [
    "q = Queue2Stacks()"
   ]
  },
  {
   "cell_type": "code",
   "execution_count": 34,
   "id": "1e136f36-28a3-4c0d-89d3-e1818ada126c",
   "metadata": {},
   "outputs": [],
   "source": [
    "q.enqueue(1)\n",
    "q.enqueue(2)"
   ]
  },
  {
   "cell_type": "code",
   "execution_count": 35,
   "id": "0d8a1db2-fa82-4221-8f23-603d4bd28191",
   "metadata": {},
   "outputs": [
    {
     "data": {
      "text/plain": [
       "1"
      ]
     },
     "execution_count": 35,
     "metadata": {},
     "output_type": "execute_result"
    }
   ],
   "source": [
    "q.dequeue()"
   ]
  },
  {
   "cell_type": "code",
   "execution_count": null,
   "id": "a0a432d1-bca1-4b68-8d7c-e29d84a9a374",
   "metadata": {},
   "outputs": [],
   "source": []
  }
 ],
 "metadata": {
  "kernelspec": {
   "display_name": "Python 3",
   "language": "python",
   "name": "python3"
  },
  "language_info": {
   "codemirror_mode": {
    "name": "ipython",
    "version": 3
   },
   "file_extension": ".py",
   "mimetype": "text/x-python",
   "name": "python",
   "nbconvert_exporter": "python",
   "pygments_lexer": "ipython3",
   "version": "3.9.4"
  }
 },
 "nbformat": 4,
 "nbformat_minor": 5
}
