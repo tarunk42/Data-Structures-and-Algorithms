{
 "cells": [
  {
   "cell_type": "markdown",
   "id": "39e93e87-c793-4de6-b277-183269f6d587",
   "metadata": {},
   "source": [
    "# Queue Problems"
   ]
  },
  {
   "cell_type": "markdown",
   "id": "ce807f09-bc24-47af-8875-891a5f315ede",
   "metadata": {},
   "source": [
    "## UDEMY"
   ]
  },
  {
   "cell_type": "code",
   "execution_count": 26,
   "id": "81309498-4180-4606-a321-7613c164bb07",
   "metadata": {},
   "outputs": [],
   "source": [
    "class Queue(object):\n",
    "    \"\"\"\n",
    "    Implementing queue datastructure\n",
    "    isEmpty(): checks and returns if the queue is empty or not in boolean value.\n",
    "    enqueue(): adds item at the rear of the queue.\n",
    "    dequeue(): removes amd retruns item from the front of the queue.\n",
    "    size(): returns the length/size of the queue.\n",
    "    \"\"\"\n",
    "    def __init__(self):\n",
    "        self.items = []\n",
    "    \n",
    "    def isEmpty(self):\n",
    "        \"\"\"\n",
    "        checks and returns if the queue is empty or not in boolean value.\n",
    "        \"\"\"\n",
    "        return self.items == []\n",
    "    \n",
    "    def enqueue(self,item):\n",
    "        \"\"\"\n",
    "        adds item at the rear of the queue.\n",
    "        \"\"\"\n",
    "        self.items.insert(0, item)\n",
    "    \n",
    "    def dequeue(self):\n",
    "        \"\"\"\n",
    "        removes amd retruns item from the front of the queue.\n",
    "        \"\"\"\n",
    "        return self.items.pop()\n",
    "    \n",
    "    def size(self):\n",
    "        \"\"\"\n",
    "        returns the length/size of the queue.\n",
    "        \"\"\"\n",
    "        return len(self.items)"
   ]
  },
  {
   "cell_type": "markdown",
   "id": "586909c1-be08-4a7d-96f6-0f80d5e8acf1",
   "metadata": {},
   "source": [
    "## Deques"
   ]
  },
  {
   "cell_type": "markdown",
   "id": "64ce8cf9-386a-4cd7-8a64-81f875a109b1",
   "metadata": {},
   "source": [
    "### We will also implement Deques"
   ]
  },
  {
   "cell_type": "code",
   "execution_count": 1,
   "id": "543a36e7-3f40-4512-942c-fd2c05d5bc7c",
   "metadata": {},
   "outputs": [],
   "source": [
    "class Deque(object):\n",
    "    \"\"\"\n",
    "    Implementing Deque datastructure\n",
    "    isEmpty(): checks and returns if the Deque is empty or not in boolean value.\n",
    "    addFront(): adds item at the front of the deque.\n",
    "    addRear(): adds item at the rear of the deque.\n",
    "    removeFront(): removes amd retruns item from the front of the deque.\n",
    "    removeRear(): removes amd retruns item from the rear of the deque.\n",
    "    size(): returns the length/size of the deque.\n",
    "    \"\"\"\n",
    "    def __init__(self):\n",
    "        self.items = []\n",
    "    \n",
    "    def isEmpty(self):\n",
    "        \"\"\"\n",
    "        checks and returns if the Deque is empty or not in boolean value.\n",
    "        \"\"\"\n",
    "        return self.items == []\n",
    "    \n",
    "    def addFront(self,item):\n",
    "        \"\"\"\n",
    "        adds item at the front of the deque.\n",
    "        \"\"\"\n",
    "        self.items.append(item)\n",
    "        \n",
    "    def addRear(self, item):\n",
    "        \"\"\"\n",
    "        adds item at the rear of the deque.\n",
    "        \"\"\"\n",
    "        self.items.insert(0, item)\n",
    "    \n",
    "    def removeFront(self):\n",
    "        \"\"\"\n",
    "        removes amd retruns item from the front of the deque.\n",
    "        \"\"\"\n",
    "        return self.items.pop()\n",
    "    \n",
    "    def removeRear(self):\n",
    "        \"\"\"\n",
    "        removes amd retruns item from the rear of the deque.\n",
    "        \"\"\"\n",
    "        return self.items.pop(0)\n",
    "    \n",
    "    def size(self):\n",
    "        \"\"\"\n",
    "        returns the length/size of the deque.\n",
    "        \"\"\"\n",
    "        return len(self.items)"
   ]
  },
  {
   "cell_type": "markdown",
   "id": "a0c92eb2-b113-4562-820b-b4a441b8ef31",
   "metadata": {},
   "source": [
    "#### Prob 1: Implement a Queue.\n",
    "#### Prob 2: Implement a Deque.\n",
    "#### (We have already done both.)"
   ]
  },
  {
   "cell_type": "code",
   "execution_count": null,
   "id": "6e212200-ebb2-455f-8423-1e5155032a0d",
   "metadata": {},
   "outputs": [],
   "source": []
  }
 ],
 "metadata": {
  "kernelspec": {
   "display_name": "Python 3",
   "language": "python",
   "name": "python3"
  },
  "language_info": {
   "codemirror_mode": {
    "name": "ipython",
    "version": 3
   },
   "file_extension": ".py",
   "mimetype": "text/x-python",
   "name": "python",
   "nbconvert_exporter": "python",
   "pygments_lexer": "ipython3",
   "version": "3.9.4"
  }
 },
 "nbformat": 4,
 "nbformat_minor": 5
}
