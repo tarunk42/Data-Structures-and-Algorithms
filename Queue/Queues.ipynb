{
 "cells": [
  {
   "cell_type": "markdown",
   "id": "39e93e87-c793-4de6-b277-183269f6d587",
   "metadata": {},
   "source": [
    "# Queue Problems"
   ]
  },
  {
   "cell_type": "markdown",
   "id": "ce807f09-bc24-47af-8875-891a5f315ede",
   "metadata": {},
   "source": [
    "## UDEMY"
   ]
  },
  {
   "cell_type": "code",
   "execution_count": 26,
   "id": "81309498-4180-4606-a321-7613c164bb07",
   "metadata": {},
   "outputs": [],
   "source": [
    "class Queue(object):\n",
    "    \"\"\"\n",
    "    Implementing queue datastructure\n",
    "    isEmpty(): checks and returns if the queue is empty or not in boolean value.\n",
    "    enqueue(): adds item at the rear of the queue.\n",
    "    dequeue(): removes amd retruns item from the front of the queue.\n",
    "    size(): returns the length/size of the queue.\n",
    "    \"\"\"\n",
    "    def __init__(self):\n",
    "        self.items = []\n",
    "    \n",
    "    def isEmpty(self):\n",
    "        \"\"\"\n",
    "        checks and returns if the queue is empty or not in boolean value.\n",
    "        \"\"\"\n",
    "        return self.items == []\n",
    "    \n",
    "    def enqueue(self,item):\n",
    "        \"\"\"\n",
    "        adds item at the rear of the queue.\n",
    "        \"\"\"\n",
    "        self.items.insert(0, item)\n",
    "    \n",
    "    def dequeue(self):\n",
    "        \"\"\"\n",
    "        removes amd retruns item from the front of the queue.\n",
    "        \"\"\"\n",
    "        return self.items.pop()\n",
    "    \n",
    "    def size(self):\n",
    "        \"\"\"\n",
    "        returns the length/size of the queue.\n",
    "        \"\"\"\n",
    "        return len(self.items)"
   ]
  },
  {
   "cell_type": "code",
   "execution_count": 27,
   "id": "df44def9-6ad9-4625-8463-79a41a1fb8df",
   "metadata": {},
   "outputs": [],
   "source": [
    "q = Queue()"
   ]
  },
  {
   "cell_type": "code",
   "execution_count": 28,
   "id": "adaa2f02-7e1c-44e6-809d-5634bdb154bb",
   "metadata": {},
   "outputs": [
    {
     "data": {
      "text/plain": [
       "0"
      ]
     },
     "execution_count": 28,
     "metadata": {},
     "output_type": "execute_result"
    }
   ],
   "source": [
    "q.size()"
   ]
  },
  {
   "cell_type": "code",
   "execution_count": 29,
   "id": "a2c70633-10f2-4ece-8d27-fd4a1c93b3c1",
   "metadata": {},
   "outputs": [
    {
     "data": {
      "text/plain": [
       "True"
      ]
     },
     "execution_count": 29,
     "metadata": {},
     "output_type": "execute_result"
    }
   ],
   "source": [
    "q.isEmpty()"
   ]
  },
  {
   "cell_type": "code",
   "execution_count": 30,
   "id": "3b699191-3454-45d4-b173-73e6433a758c",
   "metadata": {},
   "outputs": [],
   "source": [
    "q.enqueue(1)"
   ]
  },
  {
   "cell_type": "code",
   "execution_count": 31,
   "id": "8c039005-ecb4-4a4b-848d-242f37ec6a0c",
   "metadata": {},
   "outputs": [],
   "source": [
    "q.enqueue(2)"
   ]
  },
  {
   "cell_type": "code",
   "execution_count": 32,
   "id": "6019788e-d5c7-4c7f-ad3c-7535601d20b2",
   "metadata": {},
   "outputs": [
    {
     "data": {
      "text/plain": [
       "1"
      ]
     },
     "execution_count": 32,
     "metadata": {},
     "output_type": "execute_result"
    }
   ],
   "source": [
    "q.dequeue()"
   ]
  },
  {
   "cell_type": "code",
   "execution_count": 33,
   "id": "dcd85eb8-379a-461d-9be9-02f772159f7d",
   "metadata": {},
   "outputs": [
    {
     "data": {
      "text/plain": [
       "1"
      ]
     },
     "execution_count": 33,
     "metadata": {},
     "output_type": "execute_result"
    }
   ],
   "source": [
    "q.size()"
   ]
  },
  {
   "cell_type": "code",
   "execution_count": null,
   "id": "5cab3ae5-13f2-45c2-8b95-c25f5bc16006",
   "metadata": {},
   "outputs": [],
   "source": []
  }
 ],
 "metadata": {
  "kernelspec": {
   "display_name": "Python 3",
   "language": "python",
   "name": "python3"
  },
  "language_info": {
   "codemirror_mode": {
    "name": "ipython",
    "version": 3
   },
   "file_extension": ".py",
   "mimetype": "text/x-python",
   "name": "python",
   "nbconvert_exporter": "python",
   "pygments_lexer": "ipython3",
   "version": "3.9.4"
  }
 },
 "nbformat": 4,
 "nbformat_minor": 5
}
