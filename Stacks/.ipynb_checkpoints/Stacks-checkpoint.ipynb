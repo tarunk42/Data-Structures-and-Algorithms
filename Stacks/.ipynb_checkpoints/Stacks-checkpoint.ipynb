{
 "cells": [
  {
   "cell_type": "markdown",
   "id": "1924ddec-4eac-4467-b6e4-0bf99cd56c51",
   "metadata": {},
   "source": [
    "# Stacks Problems"
   ]
  },
  {
   "cell_type": "markdown",
   "id": "54b1be2d-6b3e-48d1-ba2c-cb6470d00add",
   "metadata": {},
   "source": [
    "## UDEMY"
   ]
  },
  {
   "cell_type": "markdown",
   "id": "84fc42f0-d0de-4141-9ed6-4376215850a3",
   "metadata": {},
   "source": [
    "## Lets first create a stack class"
   ]
  },
  {
   "cell_type": "code",
   "execution_count": 1,
   "id": "ee067681-823c-4ed4-b1c3-299c6d9f9256",
   "metadata": {},
   "outputs": [],
   "source": [
    "class Stack(object):\n",
    "    \"\"\"Implementing stack datastructure:\n",
    "    isEmpty(): checks and returns if the stack is empty or not in boolean value\n",
    "    push(item): add element at the top of the stack\n",
    "    pop(): removes and returns returns the top element of the stack\n",
    "    peek(): reads the top element of the stack\n",
    "    size(): returns the length of the stack.\"\"\"\n",
    "    def __init__(self):\n",
    "        \"\"\"\n",
    "        instantiate the items list that will store the elements.\n",
    "        \"\"\"\n",
    "        self.items = []\n",
    "        \n",
    "    def isEmpty(self):\n",
    "        \"\"\"\n",
    "        checks and returns if the stack is empty or not in boolean value.\n",
    "        \"\"\"\n",
    "        return self.items == []\n",
    "    \n",
    "    def push(self,item):\n",
    "        \"\"\"\n",
    "        adds element at the top of the stack.\n",
    "        \"\"\"\n",
    "        self.items.append(item)\n",
    "    \n",
    "    def pop(self):\n",
    "        \"\"\"\n",
    "        removes and returns the top element of the stack.\n",
    "        \"\"\"\n",
    "        return self.items.pop()\n",
    "    \n",
    "    def peek(self):\n",
    "        \"\"\"\n",
    "        returns the value of the top element of the stack.\n",
    "        \"\"\"\n",
    "        return self.items[len(self.items)-1]\n",
    "    \n",
    "    def size(self):\n",
    "        \"\"\"\n",
    "        returns the length/size of the stack.\n",
    "        \"\"\"\n",
    "        return len(self.items)"
   ]
  },
  {
   "cell_type": "markdown",
   "id": "b92c3b76-05e6-429a-9daf-7f2e93543dcc",
   "metadata": {},
   "source": [
    "#### Prob-1: Implement a Stack. (We have already done that.)"
   ]
  },
  {
   "cell_type": "markdown",
   "id": "d4caae20-3a14-4599-92a1-0614c706739b",
   "metadata": {},
   "source": [
    "#### Prob-2: Balanced Parentheses Check"
   ]
  },
  {
   "cell_type": "code",
   "execution_count": 18,
   "id": "1c7ab73a-1372-4b91-a51d-8e5c95a49c4c",
   "metadata": {},
   "outputs": [],
   "source": [
    "def balanace_check(string):\n",
    "    stack = Stack()\n",
    "    \n",
    "    opening = set(\"([{\")\n",
    "    \n",
    "    matches = set([('(', ')'),('[',']'),('{','}')])\n",
    "    \n",
    "    for i in string:\n",
    "        if i not in \"({[]})\":\n",
    "            return False\n",
    "    \n",
    "    if len(string)%2 != 0 or len(string) == 0:\n",
    "        return False\n",
    "    \n",
    "    for k in string:\n",
    "        if k in opening:\n",
    "            stack.push(k)\n",
    "        else:\n",
    "            if stack.size() == 0:\n",
    "                return False\n",
    "            \n",
    "            last_open = stack.pop()\n",
    "            \n",
    "            if (last_open, k) not in matches:\n",
    "                return False\n",
    "        \n",
    "    return (stack.size()) == 0              "
   ]
  },
  {
   "cell_type": "code",
   "execution_count": 40,
   "id": "b326a862-2c1c-4478-832e-3799d4041ee5",
   "metadata": {},
   "outputs": [
    {
     "data": {
      "text/plain": [
       "False"
      ]
     },
     "execution_count": 40,
     "metadata": {},
     "output_type": "execute_result"
    }
   ],
   "source": [
    "balanace_check('}}')"
   ]
  },
  {
   "cell_type": "code",
   "execution_count": 289,
   "id": "7e42c17d-d376-47d2-9543-de9b87230136",
   "metadata": {},
   "outputs": [],
   "source": [
    "def bal_check(s):\n",
    "    stack = []\n",
    "    if len(s) == 0:\n",
    "        return False\n",
    "    for i in s:\n",
    "        if i == \"(\":\n",
    "            stack.append(i)\n",
    "        elif i == \")\":\n",
    "            if len(stack) != 0:\n",
    "                stack.pop()\n",
    "            else:\n",
    "                return False\n",
    "    return len(stack) == 0"
   ]
  },
  {
   "cell_type": "code",
   "execution_count": 290,
   "id": "e6b433dd-827f-4e0d-9dd1-0c03e2673c5d",
   "metadata": {},
   "outputs": [
    {
     "data": {
      "text/plain": [
       "True"
      ]
     },
     "execution_count": 290,
     "metadata": {},
     "output_type": "execute_result"
    }
   ],
   "source": [
    "bal_check(\"(()(()))\")"
   ]
  },
  {
   "cell_type": "code",
   "execution_count": 291,
   "id": "35820cdd-2763-46df-86e7-492fb23c3b18",
   "metadata": {},
   "outputs": [],
   "source": [
    "def rem_out_par(s):\n",
    "    stack = []\n",
    "    nS = \"\"\n",
    "    \n",
    "    for i in s:\n",
    "        stack.append(i)\n",
    "    stack.pop()\n",
    "    while len(stack) > 1:\n",
    "        nS = nS+stack.pop()\n",
    "    stack.pop()\n",
    "    \n",
    "    n_S = \"\"\n",
    "    for j in nS:\n",
    "        stack.append(j)\n",
    "    while len(stack) > 0:\n",
    "        n_S = n_S + stack.pop()\n",
    "    \n",
    "    return n_S"
   ]
  },
  {
   "cell_type": "code",
   "execution_count": 292,
   "id": "3edf28b6-2c46-48e7-b787-aae69ee5a8bc",
   "metadata": {},
   "outputs": [
    {
     "data": {
      "text/plain": [
       "'(((())))'"
      ]
     },
     "execution_count": 292,
     "metadata": {},
     "output_type": "execute_result"
    }
   ],
   "source": [
    "rem_out_par(\"((((()))))\")"
   ]
  },
  {
   "cell_type": "markdown",
   "id": "e8a61ba7-362b-47c8-9e9e-4c3027d43523",
   "metadata": {},
   "source": [
    "## Leetcode 1021: Remove Outermost Parentheses"
   ]
  },
  {
   "cell_type": "code",
   "execution_count": 311,
   "id": "d79b4dd9-148b-400e-8902-aeb5718edc4d",
   "metadata": {},
   "outputs": [],
   "source": [
    "def removeOuterParentheses(S):\n",
    "    stack = []\n",
    "    holdString = []\n",
    "    holdList = []\n",
    "    if not bal_check(S):\n",
    "        return None\n",
    "    for i in range(len(S)):\n",
    "        if S[i] == \"(\":\n",
    "            stack.append(S[i])\n",
    "        elif S[i] == \")\":\n",
    "            stack.pop()\n",
    "        if len(stack) > 0:\n",
    "            holdString.append(S[i])\n",
    "        elif len(stack) == 0:\n",
    "            holdString.append(S[i])\n",
    "            holdString = \"\".join(holdString)\n",
    "            holdList.append(holdString)\n",
    "            holdString = []\n",
    "            \n",
    "    out = []\n",
    "    for elem in holdList:\n",
    "        out.append(rem_out_par(elem))\n",
    "\n",
    "    out = \"\".join(out)\n",
    "\n",
    "    return out"
   ]
  },
  {
   "cell_type": "code",
   "execution_count": 312,
   "id": "ec8e9e77-e6f8-4fd2-a656-be64986c5789",
   "metadata": {},
   "outputs": [
    {
     "data": {
      "text/plain": [
       "'()()()()(())'"
      ]
     },
     "execution_count": 312,
     "metadata": {},
     "output_type": "execute_result"
    }
   ],
   "source": [
    "removeOuterParentheses(\"(()())(())(()(()))()()()\")"
   ]
  },
  {
   "cell_type": "markdown",
   "id": "20f5eec2-8e4b-479f-b140-a1c55a41960d",
   "metadata": {},
   "source": [
    "## Leetcode 1047: Remove All Adjacent Duplicates in String"
   ]
  },
  {
   "cell_type": "code",
   "execution_count": 56,
   "id": "2a302fdd-f810-4b4b-9b34-39db62c29c0d",
   "metadata": {},
   "outputs": [],
   "source": [
    "def removeAdjDuplicates(S):\n",
    "    stack = []\n",
    "    for i in range(len(S)-1):\n",
    "        stack.append(S[i])\n",
    "        if S[i] == S[i+1]:\n",
    "            stack.pop()\n",
    "        else:\n",
    "            stack.append(S[i+1])\n",
    "        print(stack)"
   ]
  },
  {
   "cell_type": "code",
   "execution_count": 57,
   "id": "157b2f98-fcf5-47f6-a979-1ac89642a4eb",
   "metadata": {},
   "outputs": [
    {
     "name": "stdout",
     "output_type": "stream",
     "text": [
      "['a', 'b']\n",
      "['a', 'b']\n",
      "['a', 'b', 'b', 'a']\n",
      "['a', 'b', 'b', 'a', 'a', 'c']\n",
      "['a', 'b', 'b', 'a', 'a', 'c', 'c', 'a']\n"
     ]
    }
   ],
   "source": [
    "removeAdjDuplicates(\"abbaca\")"
   ]
  },
  {
   "cell_type": "code",
   "execution_count": 58,
   "id": "f49edf60-6eee-416a-ac9e-3035dafe96cd",
   "metadata": {},
   "outputs": [],
   "source": [
    "s = \"abbaca\""
   ]
  },
  {
   "cell_type": "code",
   "execution_count": 59,
   "id": "0ff4adf7-5435-4ae8-a592-e8e6070ad1da",
   "metadata": {},
   "outputs": [],
   "source": [
    "stack = []"
   ]
  },
  {
   "cell_type": "code",
   "execution_count": 60,
   "id": "9549492a-7bc6-4a09-9a85-e919f3695aa9",
   "metadata": {},
   "outputs": [],
   "source": [
    "for i in range(len(s)-1):\n",
    "    stack.append(s[i])\n",
    "    if i == len(s)-2:\n",
    "        stack.append(s[i+1])"
   ]
  },
  {
   "cell_type": "code",
   "execution_count": 61,
   "id": "29d1282a-ff3e-4986-896e-d5d766ea2419",
   "metadata": {},
   "outputs": [
    {
     "data": {
      "text/plain": [
       "['a', 'b', 'b', 'a', 'c', 'a']"
      ]
     },
     "execution_count": 61,
     "metadata": {},
     "output_type": "execute_result"
    }
   ],
   "source": [
    "stack"
   ]
  },
  {
   "cell_type": "code",
   "execution_count": null,
   "id": "355f0145-d964-4ea0-a5af-dd41a7689295",
   "metadata": {},
   "outputs": [],
   "source": []
  },
  {
   "cell_type": "code",
   "execution_count": null,
   "id": "a0953673-da75-49f5-b457-5349f0d4d229",
   "metadata": {},
   "outputs": [],
   "source": []
  },
  {
   "cell_type": "code",
   "execution_count": null,
   "id": "67c6d35d-59dd-4d5b-a821-75516d1410b0",
   "metadata": {},
   "outputs": [],
   "source": []
  },
  {
   "cell_type": "code",
   "execution_count": null,
   "id": "62fbe44c-1949-40fb-b53b-21e9f703975c",
   "metadata": {},
   "outputs": [],
   "source": []
  }
 ],
 "metadata": {
  "kernelspec": {
   "display_name": "Python 3",
   "language": "python",
   "name": "python3"
  },
  "language_info": {
   "codemirror_mode": {
    "name": "ipython",
    "version": 3
   },
   "file_extension": ".py",
   "mimetype": "text/x-python",
   "name": "python",
   "nbconvert_exporter": "python",
   "pygments_lexer": "ipython3",
   "version": "3.9.4"
  }
 },
 "nbformat": 4,
 "nbformat_minor": 5
}
