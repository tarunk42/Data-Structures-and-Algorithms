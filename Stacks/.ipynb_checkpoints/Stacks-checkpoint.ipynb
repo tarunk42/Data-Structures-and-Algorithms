{
 "cells": [
  {
   "cell_type": "markdown",
   "id": "1924ddec-4eac-4467-b6e4-0bf99cd56c51",
   "metadata": {},
   "source": [
    "# Stacks Problems"
   ]
  },
  {
   "cell_type": "markdown",
   "id": "54b1be2d-6b3e-48d1-ba2c-cb6470d00add",
   "metadata": {},
   "source": [
    "## UDEMY"
   ]
  },
  {
   "cell_type": "markdown",
   "id": "84fc42f0-d0de-4141-9ed6-4376215850a3",
   "metadata": {},
   "source": [
    "## Lets first create a stack class"
   ]
  },
  {
   "cell_type": "code",
   "execution_count": 1,
   "id": "ee067681-823c-4ed4-b1c3-299c6d9f9256",
   "metadata": {},
   "outputs": [],
   "source": [
    "class Stack(object):\n",
    "    \"\"\"Implementing stack datastructure:\n",
    "    isEmpty(): checks and returns if the stack is empty or not in boolean value\n",
    "    push(item): add element at the top of the stack\n",
    "    pop(): removes and returns returns the top element of the stack\n",
    "    peek(): reads the top element of the stack\n",
    "    size(): returns the length of the stack.\"\"\"\n",
    "    def __init__(self):\n",
    "        \"\"\"\n",
    "        instantiate the items list that will store the elements.\n",
    "        \"\"\"\n",
    "        self.items = []\n",
    "        \n",
    "    def isEmpty(self):\n",
    "        \"\"\"\n",
    "        checks and returns if the stack is empty or not in boolean value.\n",
    "        \"\"\"\n",
    "        return self.items == []\n",
    "    \n",
    "    def push(self,item):\n",
    "        \"\"\"\n",
    "        adds element at the top of the stack.\n",
    "        \"\"\"\n",
    "        self.items.append(item)\n",
    "    \n",
    "    def pop(self):\n",
    "        \"\"\"\n",
    "        removes and returns the top element of the stack.\n",
    "        \"\"\"\n",
    "        return self.items.pop()\n",
    "    \n",
    "    def peek(self):\n",
    "        \"\"\"\n",
    "        returns the value of the top element of the stack.\n",
    "        \"\"\"\n",
    "        return self.items[len(self.items)-1]\n",
    "    \n",
    "    def size(self):\n",
    "        \"\"\"\n",
    "        returns the length/size of the stack.\n",
    "        \"\"\"\n",
    "        return len(self.items)"
   ]
  },
  {
   "cell_type": "markdown",
   "id": "b92c3b76-05e6-429a-9daf-7f2e93543dcc",
   "metadata": {},
   "source": [
    "#### Prob-1: Implement a Stack. (We have already done that.)"
   ]
  },
  {
   "cell_type": "markdown",
   "id": "d4caae20-3a14-4599-92a1-0614c706739b",
   "metadata": {},
   "source": [
    "#### Prob-2: Balanced Parentheses Check"
   ]
  },
  {
   "cell_type": "code",
   "execution_count": 18,
   "id": "1c7ab73a-1372-4b91-a51d-8e5c95a49c4c",
   "metadata": {},
   "outputs": [],
   "source": [
    "def balanace_check(string):\n",
    "    stack = Stack()\n",
    "    \n",
    "    opening = set(\"([{\")\n",
    "    \n",
    "    matches = set([('(', ')'),('[',']'),('{','}')])\n",
    "    \n",
    "    for i in string:\n",
    "        if i not in \"({[]})\":\n",
    "            return False\n",
    "    \n",
    "    if len(string)%2 != 0 or len(string) == 0:\n",
    "        return False\n",
    "    \n",
    "    for k in string:\n",
    "        if k in opening:\n",
    "            stack.push(k)\n",
    "        else:\n",
    "            if stack.size() == 0:\n",
    "                return False\n",
    "            \n",
    "            last_open = stack.pop()\n",
    "            \n",
    "            if (last_open, k) not in matches:\n",
    "                return False\n",
    "        \n",
    "    return (stack.size()) == 0              "
   ]
  },
  {
   "cell_type": "code",
   "execution_count": 23,
   "id": "b326a862-2c1c-4478-832e-3799d4041ee5",
   "metadata": {},
   "outputs": [
    {
     "data": {
      "text/plain": [
       "False"
      ]
     },
     "execution_count": 23,
     "metadata": {},
     "output_type": "execute_result"
    }
   ],
   "source": [
    "balanace_check('}}')"
   ]
  },
  {
   "cell_type": "code",
   "execution_count": null,
   "id": "c8340283-740e-42c6-8183-fb11e47e6567",
   "metadata": {},
   "outputs": [],
   "source": []
  }
 ],
 "metadata": {
  "kernelspec": {
   "display_name": "Python 3",
   "language": "python",
   "name": "python3"
  },
  "language_info": {
   "codemirror_mode": {
    "name": "ipython",
    "version": 3
   },
   "file_extension": ".py",
   "mimetype": "text/x-python",
   "name": "python",
   "nbconvert_exporter": "python",
   "pygments_lexer": "ipython3",
   "version": "3.9.4"
  }
 },
 "nbformat": 4,
 "nbformat_minor": 5
}
