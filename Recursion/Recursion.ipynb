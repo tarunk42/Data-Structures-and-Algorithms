{
 "cells": [
  {
   "cell_type": "markdown",
   "id": "84ec9f3a",
   "metadata": {},
   "source": [
    "# Recursion Problems"
   ]
  },
  {
   "cell_type": "markdown",
   "id": "6f7cdf9a",
   "metadata": {},
   "source": [
    "## Aditya Verma Recursion Videos"
   ]
  },
  {
   "cell_type": "markdown",
   "id": "cbef72c1",
   "metadata": {},
   "source": [
    "### Prob 1: 1 to N / N to 1 ( Solved using \"IBH\" method )."
   ]
  },
  {
   "cell_type": "code",
   "execution_count": 19,
   "id": "56a61093",
   "metadata": {},
   "outputs": [],
   "source": [
    "# N to 1 problem: prints during calling recursive functions\n",
    "def function1(n):\n",
    "    if(n==1):\n",
    "        print(1)\n",
    "        return\n",
    "    print(n)\n",
    "    function1(n-1)\n",
    "\n",
    "# 1 to N problem: prints during returning recursive functions\n",
    "def function2(n):\n",
    "    if(n==1):\n",
    "        print(1)\n",
    "        return\n",
    "    function2(n-1)\n",
    "    print(n)"
   ]
  },
  {
   "cell_type": "code",
   "execution_count": 20,
   "id": "41df4f5b",
   "metadata": {},
   "outputs": [
    {
     "name": "stdout",
     "output_type": "stream",
     "text": [
      "1\n",
      "2\n",
      "3\n",
      "4\n",
      "5\n",
      "6\n",
      "7\n"
     ]
    }
   ],
   "source": [
    "function2(7)"
   ]
  },
  {
   "cell_type": "markdown",
   "id": "9d0badf5",
   "metadata": {},
   "source": [
    "### Prob 2: Factorial using recursion"
   ]
  },
  {
   "cell_type": "code",
   "execution_count": 2,
   "id": "a5c7bd4a",
   "metadata": {},
   "outputs": [],
   "source": [
    "def factorial(n):\n",
    "    if(n==0|n==1):\n",
    "        return 1\n",
    "    return(factorial(n-1)*n)"
   ]
  },
  {
   "cell_type": "code",
   "execution_count": 4,
   "id": "a6ce0da9",
   "metadata": {},
   "outputs": [
    {
     "data": {
      "text/plain": [
       "720"
      ]
     },
     "execution_count": 4,
     "metadata": {},
     "output_type": "execute_result"
    }
   ],
   "source": [
    "factorial(6)"
   ]
  },
  {
   "cell_type": "markdown",
   "id": "33841ef5",
   "metadata": {},
   "source": [
    "### Prob 3: Sort an array using recursion"
   ]
  },
  {
   "cell_type": "code",
   "execution_count": 66,
   "id": "6c80b45d",
   "metadata": {},
   "outputs": [],
   "source": [
    "def insert(arr, temp):\n",
    "    if(len(arr)==0 or arr[len(arr)-1]<=temp):\n",
    "        arr.append(temp)\n",
    "        return arr\n",
    "    val = arr.pop()\n",
    "    insert(arr, temp)\n",
    "    arr.append(val)\n",
    "    return arr\n",
    "\n",
    "def ArraySort(arr):\n",
    "    if(len(arr)==0):\n",
    "        return arr\n",
    "    temp = arr.pop()\n",
    "    ArraySort(arr)\n",
    "    insert(arr, temp)\n",
    "    return arr"
   ]
  },
  {
   "cell_type": "code",
   "execution_count": 67,
   "id": "8818a31f",
   "metadata": {},
   "outputs": [
    {
     "data": {
      "text/plain": [
       "[0, 2, 3, 4, 5, 6, 7, 8, 9]"
      ]
     },
     "execution_count": 67,
     "metadata": {},
     "output_type": "execute_result"
    }
   ],
   "source": [
    "arr=[4,3,5,7,6,9,8,2,0]\n",
    "ArraySort(arr)"
   ]
  },
  {
   "cell_type": "markdown",
   "id": "0d814bb1",
   "metadata": {},
   "source": [
    "### Prob 4: Sort a Stack using recursion"
   ]
  },
  {
   "cell_type": "code",
   "execution_count": null,
   "id": "5328260b",
   "metadata": {},
   "outputs": [],
   "source": []
  }
 ],
 "metadata": {
  "kernelspec": {
   "display_name": "Python 3",
   "language": "python",
   "name": "python3"
  },
  "language_info": {
   "codemirror_mode": {
    "name": "ipython",
    "version": 3
   },
   "file_extension": ".py",
   "mimetype": "text/x-python",
   "name": "python",
   "nbconvert_exporter": "python",
   "pygments_lexer": "ipython3",
   "version": "3.9.5"
  }
 },
 "nbformat": 4,
 "nbformat_minor": 5
}
