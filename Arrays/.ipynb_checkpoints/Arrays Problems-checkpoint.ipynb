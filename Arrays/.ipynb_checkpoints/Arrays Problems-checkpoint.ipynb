{
 "cells": [
  {
   "cell_type": "markdown",
   "id": "f7e4380b",
   "metadata": {},
   "source": [
    "# ARRAYS PROBLEMS"
   ]
  },
  {
   "cell_type": "markdown",
   "id": "ef7d085a",
   "metadata": {},
   "source": [
    "## ANAGRAM CHECK"
   ]
  },
  {
   "cell_type": "code",
   "execution_count": 79,
   "id": "b7b90bae",
   "metadata": {},
   "outputs": [],
   "source": [
    "string1 = 'public relations'\n",
    "string2 = 'crap built on lies'\n",
    "\n",
    "def anag_chk(string1, string2):\n",
    "    string1 = set(string1)\n",
    "    string2 = set(string2)\n",
    "    st1_len = len(string1)\n",
    "    st2_len = len(string2)\n",
    "    \n",
    "    for i in string1:\n",
    "        if i not in string2:\n",
    "            st2_len -= 1\n",
    "    if st1_len != st2_len:\n",
    "        print('Not Anagram')\n",
    "    else:\n",
    "         print('Anagram')\n",
    "    return 0"
   ]
  },
  {
   "cell_type": "code",
   "execution_count": 80,
   "id": "451d6a66",
   "metadata": {},
   "outputs": [
    {
     "name": "stdout",
     "output_type": "stream",
     "text": [
      "Anagram\n"
     ]
    },
    {
     "data": {
      "text/plain": [
       "0"
      ]
     },
     "execution_count": 80,
     "metadata": {},
     "output_type": "execute_result"
    }
   ],
   "source": [
    "anag_chk(string1,string2)"
   ]
  },
  {
   "cell_type": "code",
   "execution_count": 81,
   "id": "4341c9e3",
   "metadata": {},
   "outputs": [],
   "source": [
    "def anagram(s1,s2):\n",
    "    \n",
    "    s1 = s1.replace(' ','').lower()\n",
    "    s2 = s2.replace(' ','').lower()\n",
    "    \n",
    "    if len(s1) != len(s2):\n",
    "        return False\n",
    "    \n",
    "    count = {}\n",
    "    \n",
    "    for letter in s1:\n",
    "        if letter in count:\n",
    "            count[letter] -= 1\n",
    "        else:\n",
    "            count[letter] = 1\n",
    "            \n",
    "    for letter in s2:\n",
    "        if letter in count:\n",
    "            count[letter] -= 1\n",
    "        else:\n",
    "            count[letter] =1\n",
    "    \n",
    "    for k in count:\n",
    "        if count[k] != 0:\n",
    "            return False\n",
    "    \n",
    "        return True"
   ]
  },
  {
   "cell_type": "code",
   "execution_count": 82,
   "id": "d53db9c8",
   "metadata": {},
   "outputs": [
    {
     "data": {
      "text/plain": [
       "True"
      ]
     },
     "execution_count": 82,
     "metadata": {},
     "output_type": "execute_result"
    }
   ],
   "source": [
    "string1 = 'public relations'\n",
    "string2 = 'crap built on lies'\n",
    "anagram(string1, string2)"
   ]
  },
  {
   "cell_type": "markdown",
   "id": "60308461",
   "metadata": {},
   "source": [
    "## ARRAY PAIR SUM"
   ]
  },
  {
   "cell_type": "code",
   "execution_count": 30,
   "id": "9453941c",
   "metadata": {},
   "outputs": [],
   "source": [
    "arr = [1,3,2,2]\n",
    "Sum = 4\n",
    "\n",
    "def arr_pair_sum(arr, Sum):\n",
    "    for i in arr:\n",
    "        for j in arr:\n",
    "            if i+j == Sum:\n",
    "                 print(f\"({i},{j})\")\n",
    "    return 0"
   ]
  },
  {
   "cell_type": "code",
   "execution_count": 31,
   "id": "81949444",
   "metadata": {},
   "outputs": [
    {
     "name": "stdout",
     "output_type": "stream",
     "text": [
      "(1,3)\n",
      "(3,1)\n",
      "(2,2)\n",
      "(2,2)\n",
      "(2,2)\n",
      "(2,2)\n"
     ]
    },
    {
     "data": {
      "text/plain": [
       "0"
      ]
     },
     "execution_count": 31,
     "metadata": {},
     "output_type": "execute_result"
    }
   ],
   "source": [
    "arr_pair_sum(arr, Sum)"
   ]
  },
  {
   "cell_type": "code",
   "execution_count": 32,
   "id": "5af58da3",
   "metadata": {},
   "outputs": [],
   "source": [
    "def pair_sum(arr, k):\n",
    "    \n",
    "    if len(arr) < 2:\n",
    "        return\n",
    "    \n",
    "    seen = set()\n",
    "    output= set()\n",
    "    \n",
    "    for num in arr:\n",
    "        target = k-num\n",
    "        \n",
    "        if target not in seen:\n",
    "            seen.add(num)\n",
    "        else:\n",
    "            output.add( ((min(num, target)), (max(num,target))) )\n",
    "    \n",
    "    print('\\n'.join(map(str,list(output))))"
   ]
  },
  {
   "cell_type": "code",
   "execution_count": 33,
   "id": "95ea21ca",
   "metadata": {},
   "outputs": [
    {
     "name": "stdout",
     "output_type": "stream",
     "text": [
      "(1, 3)\n",
      "(2, 2)\n"
     ]
    }
   ],
   "source": [
    "pair_sum(arr, Sum)"
   ]
  },
  {
   "cell_type": "markdown",
   "id": "2a650a77",
   "metadata": {},
   "source": [
    "## FINDING THE MISSING ELEMENT"
   ]
  },
  {
   "cell_type": "code",
   "execution_count": 34,
   "id": "c62ba3db",
   "metadata": {},
   "outputs": [],
   "source": [
    "def finder(Arr1, Arr2):\n",
    "    Arr1.sort()\n",
    "    Arr2.sort()\n",
    "    for i in Arr1:\n",
    "#         for j in Arr2:\n",
    "        if i not in Arr2:\n",
    "            print(i)"
   ]
  },
  {
   "cell_type": "code",
   "execution_count": 49,
   "id": "3d1ea253",
   "metadata": {},
   "outputs": [
    {
     "name": "stdout",
     "output_type": "stream",
     "text": [
      "5\n",
      "8\n"
     ]
    }
   ],
   "source": [
    "Arr1 = [1,2,3,4,5,6,7,8]\n",
    "Arr2 = [3,7,2,1,4,6]\n",
    "finder(Arr1, Arr2)"
   ]
  },
  {
   "cell_type": "code",
   "execution_count": 50,
   "id": "aa48c26d",
   "metadata": {},
   "outputs": [],
   "source": [
    "def finder_ud(arr1,arr2):\n",
    "    arr1.sort()\n",
    "    arr2.sort()\n",
    "    \n",
    "    for num1, num2 in zip(arr1,arr2):\n",
    "        if num1 != num2:\n",
    "            return num1\n",
    "        \n",
    "        return arr1[-1]"
   ]
  },
  {
   "cell_type": "code",
   "execution_count": 51,
   "id": "1b972c9d",
   "metadata": {},
   "outputs": [
    {
     "data": {
      "text/plain": [
       "8"
      ]
     },
     "execution_count": 51,
     "metadata": {},
     "output_type": "execute_result"
    }
   ],
   "source": [
    "finder_ud(Arr1,Arr2)"
   ]
  },
  {
   "cell_type": "code",
   "execution_count": 52,
   "id": "da440ac5",
   "metadata": {},
   "outputs": [],
   "source": [
    "import collections"
   ]
  },
  {
   "cell_type": "code",
   "execution_count": 53,
   "id": "0eafead7",
   "metadata": {},
   "outputs": [],
   "source": [
    "def finder2(arr1,arr2):\n",
    "    \n",
    "    d = collections.defaultdict(int)\n",
    "    \n",
    "    for num in arr2:\n",
    "        d[num] += 1\n",
    "    \n",
    "    for num in arr1:\n",
    "        if d[num] == 0:\n",
    "            return num\n",
    "        else:\n",
    "            d[num] -= 1"
   ]
  },
  {
   "cell_type": "code",
   "execution_count": 54,
   "id": "fb996221",
   "metadata": {
    "scrolled": true
   },
   "outputs": [
    {
     "data": {
      "text/plain": [
       "5"
      ]
     },
     "execution_count": 54,
     "metadata": {},
     "output_type": "execute_result"
    }
   ],
   "source": [
    "finder2(Arr1,Arr2)"
   ]
  },
  {
   "cell_type": "code",
   "execution_count": 58,
   "id": "e9a7e109",
   "metadata": {},
   "outputs": [],
   "source": [
    "def finder3(arr1,arr2):\n",
    "    result = 0\n",
    "    \n",
    "    for num in arr1+arr2:\n",
    "        result^=num\n",
    "        print(result)"
   ]
  },
  {
   "cell_type": "code",
   "execution_count": 59,
   "id": "6117eae6",
   "metadata": {},
   "outputs": [],
   "source": [
    "finder3(Arr1,Arr2)"
   ]
  },
  {
   "cell_type": "markdown",
   "id": "da8cdc3e",
   "metadata": {},
   "source": [
    "## LARGET CONTINUOUS SUM"
   ]
  },
  {
   "cell_type": "code",
   "execution_count": 63,
   "id": "8edfce02",
   "metadata": {},
   "outputs": [],
   "source": [
    "arr = [1,2,-1,3,4,10,10,-10,-1]"
   ]
  },
  {
   "cell_type": "code",
   "execution_count": 67,
   "id": "bde1f424",
   "metadata": {},
   "outputs": [],
   "source": [
    "def cont_sum(arr):\n",
    "    if len(arr) == 0:\n",
    "        return 0\n",
    "    sums = []\n",
    "    temp = []\n",
    "    for i in arr:\n",
    "        temp.append(i)\n",
    "        sums.append(sum(temp))\n",
    "    return max(sums)"
   ]
  },
  {
   "cell_type": "code",
   "execution_count": 68,
   "id": "00dbcdbc",
   "metadata": {},
   "outputs": [
    {
     "data": {
      "text/plain": [
       "29"
      ]
     },
     "execution_count": 68,
     "metadata": {},
     "output_type": "execute_result"
    }
   ],
   "source": [
    "cont_sum(arr)"
   ]
  },
  {
   "cell_type": "code",
   "execution_count": 69,
   "id": "45c4641a",
   "metadata": {},
   "outputs": [],
   "source": [
    "def large_cont_sum(arr):\n",
    "    if len(arr) ==0:\n",
    "        return 0\n",
    "    max_sum = current_sum = arr[0]\n",
    "    \n",
    "    for num in arr[1:]:\n",
    "        \n",
    "        current_sum = max(current_sum+num, num)\n",
    "        max_sum = max(current_sum, max_sum)\n",
    "    \n",
    "    return max_sum"
   ]
  },
  {
   "cell_type": "code",
   "execution_count": 70,
   "id": "fffdca00",
   "metadata": {},
   "outputs": [
    {
     "data": {
      "text/plain": [
       "29"
      ]
     },
     "execution_count": 70,
     "metadata": {},
     "output_type": "execute_result"
    }
   ],
   "source": [
    "large_cont_sum(arr)"
   ]
  },
  {
   "cell_type": "markdown",
   "id": "9bf50b25",
   "metadata": {},
   "source": [
    "## SENTENCE REVERSAL"
   ]
  },
  {
   "cell_type": "code",
   "execution_count": 88,
   "id": "791aef8c",
   "metadata": {},
   "outputs": [],
   "source": [
    "inp_str = 'This is the best'"
   ]
  },
  {
   "cell_type": "code",
   "execution_count": 92,
   "id": "598a7cc3",
   "metadata": {},
   "outputs": [],
   "source": [
    "def sent_rev(inp_str):\n",
    "    if len(inp_str) == 0:\n",
    "        return 0\n",
    "    arr = []\n",
    "    arr = inp_str.split(' ')\n",
    "    arr = arr[::-1]\n",
    "    return \" \".join(arr)"
   ]
  },
  {
   "cell_type": "code",
   "execution_count": 93,
   "id": "6c21a5b0",
   "metadata": {},
   "outputs": [
    {
     "data": {
      "text/plain": [
       "'best the is This'"
      ]
     },
     "execution_count": 93,
     "metadata": {},
     "output_type": "execute_result"
    }
   ],
   "source": [
    "sent_rev(inp_str)"
   ]
  },
  {
   "cell_type": "code",
   "execution_count": null,
   "id": "47bc5626",
   "metadata": {},
   "outputs": [],
   "source": [
    "def sentence_reversal(inp_str):\n",
    "    if len(inp_str) == 0:\n",
    "        return 0\n",
    "    arr = []\n",
    "    arr = inp_str.split(' ')\n",
    "    for i in arr"
   ]
  },
  {
   "cell_type": "code",
   "execution_count": 90,
   "id": "05289f1d",
   "metadata": {},
   "outputs": [],
   "source": [
    "def rev_word(s):\n",
    "    \n",
    "    words = []\n",
    "    length = len(s)\n",
    "    spaces = [' ']\n",
    "    \n",
    "    i = 0\n",
    "    \n",
    "    while i < length:\n",
    "        if s[i] not in spaces:\n",
    "            \n",
    "            word_start = i\n",
    "            \n",
    "            while i < length and s[i] not in spaces:\n",
    "                \n",
    "                i += 1\n",
    "                \n",
    "            words.append(s[word_start:i])\n",
    "        i += 1\n",
    "    \n",
    "    return \" \".join(reversed(words))"
   ]
  },
  {
   "cell_type": "code",
   "execution_count": 91,
   "id": "a7cc0330",
   "metadata": {},
   "outputs": [
    {
     "data": {
      "text/plain": [
       "'best the is This'"
      ]
     },
     "execution_count": 91,
     "metadata": {},
     "output_type": "execute_result"
    }
   ],
   "source": [
    "rev_word(inp_str)"
   ]
  },
  {
   "cell_type": "markdown",
   "id": "e5a83b83",
   "metadata": {},
   "source": [
    "## STRING COMPRESSION"
   ]
  },
  {
   "cell_type": "code",
   "execution_count": 7,
   "id": "06d8c4cf",
   "metadata": {},
   "outputs": [
    {
     "data": {
      "text/plain": [
       "{'A', 'B', 'C', 'D', 'E'}"
      ]
     },
     "execution_count": 7,
     "metadata": {},
     "output_type": "execute_result"
    }
   ],
   "source": [
    "inp_str = \"AAAABBBBCCCCCDDEEEE\"\n",
    "Set_ = set(inp_str)\n",
    "Set_"
   ]
  },
  {
   "cell_type": "markdown",
   "id": "ab1072f6-8ca6-40e2-b081-7e62b6bd029d",
   "metadata": {},
   "source": [
    "#### First Try: It failed because python set() utilises hash table for implementation. And thus it does not preserve the sequence."
   ]
  },
  {
   "cell_type": "code",
   "execution_count": 8,
   "id": "9472d343",
   "metadata": {},
   "outputs": [],
   "source": [
    "def str_comp(inp_str):\n",
    "    Set = set(inp_str)\n",
    "    out = []\n",
    "    for i in Set:\n",
    "        count = 0\n",
    "        for j in inp_str:\n",
    "            if j == i:\n",
    "                count += 1\n",
    "            if i not in out:\n",
    "                out.append(i)\n",
    "        out.append(str(count))\n",
    "    return ''.join(out)"
   ]
  },
  {
   "cell_type": "code",
   "execution_count": 9,
   "id": "2054ac83",
   "metadata": {},
   "outputs": [
    {
     "data": {
      "text/plain": [
       "'B4E4D2C5A4'"
      ]
     },
     "execution_count": 9,
     "metadata": {},
     "output_type": "execute_result"
    }
   ],
   "source": [
    "str_comp(inp_str)"
   ]
  },
  {
   "cell_type": "markdown",
   "id": "29fc2257-7ee5-410f-a74d-5ea1aa43c7da",
   "metadata": {},
   "source": [
    "#### Second Try: It failed because [i-1] does not exist for the case i=0. So it is shifting the count by whole one type of elements."
   ]
  },
  {
   "cell_type": "code",
   "execution_count": 32,
   "id": "6a232b8e",
   "metadata": {},
   "outputs": [],
   "source": [
    "def string_compression(inp_string):\n",
    "    out = []\n",
    "    count = 1\n",
    "    for i in range(len(inp_string)):\n",
    "        if inp_string[i] == inp_string[i-1]:\n",
    "            count += 1\n",
    "        if inp_string[i] != inp_string[i-1]:\n",
    "            out.append(inp_string[i])\n",
    "            out.append(str(count))\n",
    "            count = 1\n",
    "    return ''.join(out)"
   ]
  },
  {
   "cell_type": "code",
   "execution_count": 33,
   "id": "d0761cdf",
   "metadata": {},
   "outputs": [
    {
     "data": {
      "text/plain": [
       "'A1B4C4D5E2'"
      ]
     },
     "execution_count": 33,
     "metadata": {},
     "output_type": "execute_result"
    }
   ],
   "source": [
    "string_compression(inp_str)"
   ]
  },
  {
   "cell_type": "markdown",
   "id": "f8eb9671-1bfa-4208-aa81-dcd36e7a0069",
   "metadata": {},
   "source": [
    "#### Third Try: It implements 2-point solution."
   ]
  },
  {
   "cell_type": "code",
   "execution_count": 36,
   "id": "4216d6db",
   "metadata": {},
   "outputs": [],
   "source": [
    "def compression(inp_string):\n",
    "    if len(inp_string) == 0:\n",
    "        return \"\"\n",
    "    if len(inp_string) ==1:\n",
    "        return inp_string+str(1)\n",
    "    \n",
    "    r = \"\"\n",
    "    last = inp_str[0]\n",
    "    cnt = 1\n",
    "    i = 1\n",
    "    \n",
    "    while i < len(inp_string):\n",
    "        \n",
    "        if inp_string[i] == inp_string[i-1]:\n",
    "            cnt += 1\n",
    "        else:\n",
    "            r = r + inp_string[i-1] + str(cnt)\n",
    "            cnt = 1\n",
    "        \n",
    "        i += 1\n",
    "    \n",
    "    r = r + inp_string[i-1] + str(cnt)\n",
    "    \n",
    "    return r"
   ]
  },
  {
   "cell_type": "code",
   "execution_count": 37,
   "id": "550fbacf",
   "metadata": {},
   "outputs": [
    {
     "name": "stdout",
     "output_type": "stream",
     "text": [
      "A4B4C5D2E4\n"
     ]
    }
   ],
   "source": [
    "print(compression(inp_str))"
   ]
  },
  {
   "cell_type": "markdown",
   "id": "c864e45e",
   "metadata": {},
   "source": [
    "# LEETCODE ARRAY PROBLEMS"
   ]
  },
  {
   "cell_type": "markdown",
   "id": "88dbf897",
   "metadata": {},
   "source": [
    "## Leetcode: 1512 : Number of Good Pairs"
   ]
  },
  {
   "cell_type": "code",
   "execution_count": 38,
   "id": "1fe512b7",
   "metadata": {},
   "outputs": [],
   "source": [
    "def numIdenticalPairs(nums):\n",
    "\n",
    "    out = []\n",
    "    # out = 0\n",
    "    for i in range(len(nums)):\n",
    "        for j in range(len(nums)):\n",
    "            if (nums[j] == nums[i] & (i < j)):\n",
    "                # out += 1\n",
    "                out.append(f\"{i}, {j}\")\n",
    "                print(f\"Out: {out}\\n i: {i}, nums[i]: {nums[i]}\\n j: {j}, nums[j]: {nums[j]}\")\n",
    "\n",
    "    return len(out)"
   ]
  },
  {
   "cell_type": "code",
   "execution_count": 39,
   "id": "142a987f",
   "metadata": {},
   "outputs": [
    {
     "name": "stdout",
     "output_type": "stream",
     "text": [
      "Out: ['0, 3']\n",
      " i: 0, nums[i]: 1\n",
      " j: 3, nums[j]: 1\n",
      "Out: ['0, 3', '0, 4']\n",
      " i: 0, nums[i]: 1\n",
      " j: 4, nums[j]: 1\n",
      "Out: ['0, 3', '0, 4', '2, 3']\n",
      " i: 2, nums[i]: 3\n",
      " j: 3, nums[j]: 1\n",
      "Out: ['0, 3', '0, 4', '2, 3', '2, 4']\n",
      " i: 2, nums[i]: 3\n",
      " j: 4, nums[j]: 1\n",
      "Out: ['0, 3', '0, 4', '2, 3', '2, 4', '3, 4']\n",
      " i: 3, nums[i]: 1\n",
      " j: 4, nums[j]: 1\n"
     ]
    },
    {
     "data": {
      "text/plain": [
       "5"
      ]
     },
     "execution_count": 39,
     "metadata": {},
     "output_type": "execute_result"
    }
   ],
   "source": [
    "nums = [1,2,3,1,1,3]\n",
    "numIdenticalPairs(nums)"
   ]
  },
  {
   "cell_type": "markdown",
   "id": "339c3322",
   "metadata": {},
   "source": [
    "#### C Solution :(Submitted)\n",
    "\n",
    "\"\"\"\n",
    "int numIdenticalPairs(int* nums, int numsSize){\n",
    "   int out = 0;\n",
    "   for(int i=0;i<numsSize;i++){\n",
    "       for(int j=i+1;j<numsSize;j++){\n",
    "           if(nums[i]==nums[j]){\n",
    "               out = out + 1;\n",
    "           }\n",
    "       }\n",
    "   }\n",
    "   return out;\n",
    "}\n",
    "\"\"\""
   ]
  },
  {
   "cell_type": "markdown",
   "id": "a8dafda2",
   "metadata": {},
   "source": [
    "## Leetcode: 1365 : Total Number of smaller numbers than the current number."
   ]
  },
  {
   "cell_type": "code",
   "execution_count": 1,
   "id": "aa4b7769",
   "metadata": {},
   "outputs": [],
   "source": [
    "def smallerNumbersThanCurrent(nums):\n",
    "    out = []\n",
    "    for i in range(len(nums)):\n",
    "        count = 0\n",
    "        for j in range(len(nums)):\n",
    "            n_i = nums[i]\n",
    "            n_j = nums[j]\n",
    "            if n_j < n_i:\n",
    "                count += 1\n",
    "        out.append(count)\n",
    "    return out"
   ]
  },
  {
   "cell_type": "code",
   "execution_count": 42,
   "id": "ee07c0a5",
   "metadata": {},
   "outputs": [
    {
     "data": {
      "text/plain": [
       "[4, 0, 1, 1, 3]"
      ]
     },
     "execution_count": 42,
     "metadata": {},
     "output_type": "execute_result"
    }
   ],
   "source": [
    "nums = [8,1,2,2,3]\n",
    "smallerNumbersThanCurrent(nums)"
   ]
  },
  {
   "cell_type": "markdown",
   "id": "a55bc71b",
   "metadata": {},
   "source": [
    "## Leetcode 1313: Decompress Run-Length Encoded List"
   ]
  },
  {
   "cell_type": "markdown",
   "id": "df4204bf",
   "metadata": {},
   "source": [
    "#### This solution beats 92-97.66% of user in runtime and ~ 58% users in memory"
   ]
  },
  {
   "cell_type": "code",
   "execution_count": 61,
   "id": "7a453f8e",
   "metadata": {},
   "outputs": [
    {
     "data": {
      "text/plain": [
       "[2, 4, 4, 4]"
      ]
     },
     "execution_count": 61,
     "metadata": {},
     "output_type": "execute_result"
    }
   ],
   "source": [
    "nums = [1,2,3,4]\n",
    "temp = []\n",
    "out = []\n",
    "freq = 0\n",
    "val = 0\n",
    "for i in range(0,len(nums),2):\n",
    "    if i+1 < len(nums):\n",
    "#         print(f\"({nums[i]},{nums[i+1]})\")\n",
    "        temp.append(nums[i])\n",
    "        temp.append(nums[i+1])\n",
    "#         print(temp)\n",
    "    freq = temp[0]\n",
    "    val = temp[1]\n",
    "    for j in range(freq):\n",
    "        out.append(val)\n",
    "    \n",
    "    temp = []\n",
    "\n",
    "out"
   ]
  },
  {
   "cell_type": "markdown",
   "id": "6eeafe91",
   "metadata": {},
   "source": [
    "#### This solution is very slow beats only 6-7% users in runtime but 83.27% users in memory."
   ]
  },
  {
   "cell_type": "code",
   "execution_count": 74,
   "id": "293fe995",
   "metadata": {},
   "outputs": [
    {
     "data": {
      "text/plain": [
       "[2, 4, 4, 4]"
      ]
     },
     "execution_count": 74,
     "metadata": {},
     "output_type": "execute_result"
    }
   ],
   "source": [
    "# freq = 0\n",
    "# val = 0\n",
    "out = []\n",
    "# temp = []\n",
    "for i in range(0,len(nums)-1,2):\n",
    "#     if i+1 < len(nums):\n",
    "#         freq = nums[i]\n",
    "#         val = nums[i+1]\n",
    "\n",
    "#     freq = temp[0]\n",
    "#     val = temp[1]\n",
    "#     for j in range(0,nums[i]):\n",
    "        \n",
    "    out.extend([nums[i+1]]*nums[i])\n",
    "\n",
    "#     temp = []\n",
    "\n",
    "out"
   ]
  },
  {
   "cell_type": "code",
   "execution_count": 72,
   "id": "68b1ab40",
   "metadata": {},
   "outputs": [
    {
     "data": {
      "text/plain": [
       "[4, 4, 4]"
      ]
     },
     "execution_count": 72,
     "metadata": {},
     "output_type": "execute_result"
    }
   ],
   "source": [
    "[4]*3"
   ]
  },
  {
   "cell_type": "markdown",
   "id": "e6990392",
   "metadata": {},
   "source": [
    "## 1773. Count Items Matching a Rule"
   ]
  },
  {
   "cell_type": "code",
   "execution_count": 70,
   "id": "c34cf054",
   "metadata": {},
   "outputs": [
    {
     "data": {
      "text/plain": [
       "1"
      ]
     },
     "execution_count": 70,
     "metadata": {},
     "output_type": "execute_result"
    }
   ],
   "source": [
    "items = [[\"phone\",\"blue\",\"pixel\"],[\"computer\",\"silver\",\"lenovo\"],[\"phone\",\"gold\",\"iphone\"]]\n",
    "ruleKey = \"color\"\n",
    "ruleValue = \"silver\"\n",
    "ruleArr = [\"type\", \"color\", \"name\"]\n",
    "count = 0\n",
    "for i in items:\n",
    "    if (i[ruleArr.index(ruleKey)] == ruleValue):\n",
    "#     if ((ruleKey in ruleArr) & (ruleValue in i) & (ruleArr.index(ruleKey) == i.index(ruleValue))):\n",
    "        count += 1\n",
    "\n",
    "count"
   ]
  },
  {
   "cell_type": "markdown",
   "id": "a49c4aa1",
   "metadata": {},
   "source": [
    "## 1389: Create Target array in given order."
   ]
  },
  {
   "cell_type": "code",
   "execution_count": 2,
   "id": "1f435983",
   "metadata": {},
   "outputs": [],
   "source": [
    "def createTargetArray(nums, index):\n",
    "    out = []\n",
    "    for i in range(len(nums)):\n",
    "        out.insert(index[i],nums[i])\n",
    "\n",
    "    return out"
   ]
  },
  {
   "cell_type": "code",
   "execution_count": 3,
   "id": "8d42b8dc",
   "metadata": {},
   "outputs": [
    {
     "data": {
      "text/plain": [
       "[0, 4, 1, 3, 2]"
      ]
     },
     "execution_count": 3,
     "metadata": {},
     "output_type": "execute_result"
    }
   ],
   "source": [
    "nums = [0,1,2,3,4]\n",
    "index = [0,1,2,2,1]\n",
    "createTargetArray(nums, index)"
   ]
  },
  {
   "cell_type": "code",
   "execution_count": null,
   "id": "acccc892",
   "metadata": {},
   "outputs": [],
   "source": []
  }
 ],
 "metadata": {
  "kernelspec": {
   "display_name": "Python 3",
   "language": "python",
   "name": "python3"
  },
  "language_info": {
   "codemirror_mode": {
    "name": "ipython",
    "version": 3
   },
   "file_extension": ".py",
   "mimetype": "text/x-python",
   "name": "python",
   "nbconvert_exporter": "python",
   "pygments_lexer": "ipython3",
   "version": "3.9.4"
  }
 },
 "nbformat": 4,
 "nbformat_minor": 5
}
